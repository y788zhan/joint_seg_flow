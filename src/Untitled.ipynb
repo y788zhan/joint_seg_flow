{
 "cells": [
  {
   "cell_type": "code",
   "execution_count": 39,
   "metadata": {},
   "outputs": [],
   "source": [
    "with open('../example_data/datalists/swing_11_im0.txt') as f:\n",
    "    content = f.readlines()"
   ]
  },
  {
   "cell_type": "code",
   "execution_count": 40,
   "metadata": {},
   "outputs": [],
   "source": [
    "content = [x.strip() for x in content] "
   ]
  },
  {
   "cell_type": "code",
   "execution_count": 41,
   "metadata": {},
   "outputs": [],
   "source": [
    "swings = [item for item in content if 'bus' in item]"
   ]
  },
  {
   "cell_type": "code",
   "execution_count": 42,
   "metadata": {},
   "outputs": [],
   "source": [
    "swings0 = swings[:-1]\n",
    "swings1 = swings[1:]"
   ]
  },
  {
   "cell_type": "code",
   "execution_count": 43,
   "metadata": {},
   "outputs": [],
   "source": [
    "with open('../example_data/datalists/swing_11_gt0.txt') as f:\n",
    "    gts = f.readlines()"
   ]
  },
  {
   "cell_type": "code",
   "execution_count": 44,
   "metadata": {},
   "outputs": [],
   "source": [
    "content = [x.strip() for x in content] "
   ]
  },
  {
   "cell_type": "code",
   "execution_count": 45,
   "metadata": {},
   "outputs": [],
   "source": [
    "swings_gt = [item for item in gts if 'bus' in item]"
   ]
  },
  {
   "cell_type": "code",
   "execution_count": 46,
   "metadata": {},
   "outputs": [],
   "source": [
    "swings_gt0 = swings_gt[:-1]\n",
    "swings_gt1 = swings_gt[1:]"
   ]
  },
  {
   "cell_type": "code",
   "execution_count": 47,
   "metadata": {},
   "outputs": [
    {
     "data": {
      "text/plain": [
       "['data/DAVIS/Annotations/480p/bus/00000.png\\n',\n",
       " 'data/DAVIS/Annotations/480p/bus/00001.png\\n',\n",
       " 'data/DAVIS/Annotations/480p/bus/00002.png\\n',\n",
       " 'data/DAVIS/Annotations/480p/bus/00003.png\\n',\n",
       " 'data/DAVIS/Annotations/480p/bus/00004.png\\n',\n",
       " 'data/DAVIS/Annotations/480p/bus/00005.png\\n',\n",
       " 'data/DAVIS/Annotations/480p/bus/00006.png\\n',\n",
       " 'data/DAVIS/Annotations/480p/bus/00007.png\\n',\n",
       " 'data/DAVIS/Annotations/480p/bus/00008.png\\n',\n",
       " 'data/DAVIS/Annotations/480p/bus/00009.png\\n',\n",
       " 'data/DAVIS/Annotations/480p/bus/00010.png\\n',\n",
       " 'data/DAVIS/Annotations/480p/bus/00011.png\\n',\n",
       " 'data/DAVIS/Annotations/480p/bus/00012.png\\n',\n",
       " 'data/DAVIS/Annotations/480p/bus/00013.png\\n',\n",
       " 'data/DAVIS/Annotations/480p/bus/00014.png\\n',\n",
       " 'data/DAVIS/Annotations/480p/bus/00015.png\\n',\n",
       " 'data/DAVIS/Annotations/480p/bus/00016.png\\n',\n",
       " 'data/DAVIS/Annotations/480p/bus/00017.png\\n',\n",
       " 'data/DAVIS/Annotations/480p/bus/00018.png\\n',\n",
       " 'data/DAVIS/Annotations/480p/bus/00019.png\\n',\n",
       " 'data/DAVIS/Annotations/480p/bus/00020.png\\n',\n",
       " 'data/DAVIS/Annotations/480p/bus/00021.png\\n',\n",
       " 'data/DAVIS/Annotations/480p/bus/00022.png\\n',\n",
       " 'data/DAVIS/Annotations/480p/bus/00023.png\\n',\n",
       " 'data/DAVIS/Annotations/480p/bus/00024.png\\n',\n",
       " 'data/DAVIS/Annotations/480p/bus/00025.png\\n',\n",
       " 'data/DAVIS/Annotations/480p/bus/00026.png\\n',\n",
       " 'data/DAVIS/Annotations/480p/bus/00027.png\\n',\n",
       " 'data/DAVIS/Annotations/480p/bus/00028.png\\n',\n",
       " 'data/DAVIS/Annotations/480p/bus/00029.png\\n',\n",
       " 'data/DAVIS/Annotations/480p/bus/00030.png\\n',\n",
       " 'data/DAVIS/Annotations/480p/bus/00031.png\\n',\n",
       " 'data/DAVIS/Annotations/480p/bus/00032.png\\n',\n",
       " 'data/DAVIS/Annotations/480p/bus/00033.png\\n',\n",
       " 'data/DAVIS/Annotations/480p/bus/00034.png\\n',\n",
       " 'data/DAVIS/Annotations/480p/bus/00035.png\\n',\n",
       " 'data/DAVIS/Annotations/480p/bus/00036.png\\n',\n",
       " 'data/DAVIS/Annotations/480p/bus/00037.png\\n',\n",
       " 'data/DAVIS/Annotations/480p/bus/00038.png\\n',\n",
       " 'data/DAVIS/Annotations/480p/bus/00039.png\\n',\n",
       " 'data/DAVIS/Annotations/480p/bus/00040.png\\n',\n",
       " 'data/DAVIS/Annotations/480p/bus/00041.png\\n',\n",
       " 'data/DAVIS/Annotations/480p/bus/00042.png\\n',\n",
       " 'data/DAVIS/Annotations/480p/bus/00043.png\\n',\n",
       " 'data/DAVIS/Annotations/480p/bus/00044.png\\n',\n",
       " 'data/DAVIS/Annotations/480p/bus/00045.png\\n',\n",
       " 'data/DAVIS/Annotations/480p/bus/00046.png\\n',\n",
       " 'data/DAVIS/Annotations/480p/bus/00047.png\\n',\n",
       " 'data/DAVIS/Annotations/480p/bus/00048.png\\n',\n",
       " 'data/DAVIS/Annotations/480p/bus/00049.png\\n',\n",
       " 'data/DAVIS/Annotations/480p/bus/00050.png\\n',\n",
       " 'data/DAVIS/Annotations/480p/bus/00051.png\\n',\n",
       " 'data/DAVIS/Annotations/480p/bus/00052.png\\n',\n",
       " 'data/DAVIS/Annotations/480p/bus/00053.png\\n',\n",
       " 'data/DAVIS/Annotations/480p/bus/00054.png\\n',\n",
       " 'data/DAVIS/Annotations/480p/bus/00055.png\\n',\n",
       " 'data/DAVIS/Annotations/480p/bus/00056.png\\n',\n",
       " 'data/DAVIS/Annotations/480p/bus/00057.png\\n',\n",
       " 'data/DAVIS/Annotations/480p/bus/00058.png\\n',\n",
       " 'data/DAVIS/Annotations/480p/bus/00059.png\\n',\n",
       " 'data/DAVIS/Annotations/480p/bus/00060.png\\n',\n",
       " 'data/DAVIS/Annotations/480p/bus/00061.png\\n',\n",
       " 'data/DAVIS/Annotations/480p/bus/00062.png\\n',\n",
       " 'data/DAVIS/Annotations/480p/bus/00063.png\\n',\n",
       " 'data/DAVIS/Annotations/480p/bus/00064.png\\n',\n",
       " 'data/DAVIS/Annotations/480p/bus/00065.png\\n',\n",
       " 'data/DAVIS/Annotations/480p/bus/00066.png\\n',\n",
       " 'data/DAVIS/Annotations/480p/bus/00067.png\\n',\n",
       " 'data/DAVIS/Annotations/480p/bus/00068.png\\n',\n",
       " 'data/DAVIS/Annotations/480p/bus/00069.png\\n',\n",
       " 'data/DAVIS/Annotations/480p/bus/00070.png\\n',\n",
       " 'data/DAVIS/Annotations/480p/bus/00071.png\\n',\n",
       " 'data/DAVIS/Annotations/480p/bus/00072.png\\n',\n",
       " 'data/DAVIS/Annotations/480p/bus/00073.png\\n',\n",
       " 'data/DAVIS/Annotations/480p/bus/00074.png\\n',\n",
       " 'data/DAVIS/Annotations/480p/bus/00075.png\\n',\n",
       " 'data/DAVIS/Annotations/480p/bus/00076.png\\n',\n",
       " 'data/DAVIS/Annotations/480p/bus/00077.png\\n',\n",
       " 'data/DAVIS/Annotations/480p/bus/00078.png\\n']"
      ]
     },
     "execution_count": 47,
     "metadata": {},
     "output_type": "execute_result"
    }
   ],
   "source": [
    "swings_gt"
   ]
  },
  {
   "cell_type": "code",
   "execution_count": 48,
   "metadata": {},
   "outputs": [],
   "source": [
    "with open('../example_data/datalists/swing_im0.txt', 'w+') as f:\n",
    "    for item in swings0:\n",
    "        f.write(\"%s\\n\" % item)"
   ]
  },
  {
   "cell_type": "code",
   "execution_count": 49,
   "metadata": {},
   "outputs": [],
   "source": [
    "with open('../example_data/datalists/swing_im1.txt', 'w+') as f:\n",
    "    for item in swings1:\n",
    "        f.write(\"%s\\n\" % item)"
   ]
  },
  {
   "cell_type": "code",
   "execution_count": 50,
   "metadata": {},
   "outputs": [],
   "source": [
    "with open('../example_data/datalists/swing_gt0.txt', 'w') as f:\n",
    "    for item in swings_gt0:\n",
    "        f.write(\"%s\" % item)"
   ]
  },
  {
   "cell_type": "code",
   "execution_count": 51,
   "metadata": {},
   "outputs": [],
   "source": [
    "with open('../example_data/datalists/swing_gt1.txt', 'w') as f:\n",
    "    for item in swings_gt1:\n",
    "        f.write(\"%s\" % item)"
   ]
  },
  {
   "cell_type": "code",
   "execution_count": null,
   "metadata": {},
   "outputs": [],
   "source": []
  }
 ],
 "metadata": {
  "kernelspec": {
   "display_name": "Python 2",
   "language": "python",
   "name": "python2"
  },
  "language_info": {
   "codemirror_mode": {
    "name": "ipython",
    "version": 2
   },
   "file_extension": ".py",
   "mimetype": "text/x-python",
   "name": "python",
   "nbconvert_exporter": "python",
   "pygments_lexer": "ipython2",
   "version": "2.7.15"
  }
 },
 "nbformat": 4,
 "nbformat_minor": 2
}
