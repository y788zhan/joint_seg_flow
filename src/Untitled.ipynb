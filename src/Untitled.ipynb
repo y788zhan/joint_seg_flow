{
 "cells": [
  {
   "cell_type": "code",
   "execution_count": 1,
   "metadata": {},
   "outputs": [],
   "source": [
    "with open('../example_data/datalists/train_im0.txt') as f:\n",
    "    content = f.readlines()"
   ]
  },
  {
   "cell_type": "code",
   "execution_count": 2,
   "metadata": {},
   "outputs": [],
   "source": [
    "content = [x.strip() for x in content] "
   ]
  },
  {
   "cell_type": "code",
   "execution_count": 3,
   "metadata": {},
   "outputs": [],
   "source": [
    "swings = [item for item in content if 'swing' in item]"
   ]
  },
  {
   "cell_type": "code",
   "execution_count": 4,
   "metadata": {},
   "outputs": [],
   "source": [
    "swings0 = swings[:-1]\n",
    "swings1 = swings[1:]"
   ]
  },
  {
   "cell_type": "code",
   "execution_count": 5,
   "metadata": {},
   "outputs": [],
   "source": [
    "with open('../example_data/datalists/train_gt0.txt') as f:\n",
    "    gts = f.readlines()"
   ]
  },
  {
   "cell_type": "code",
   "execution_count": 6,
   "metadata": {},
   "outputs": [],
   "source": [
    "content = [x.strip() for x in content] "
   ]
  },
  {
   "cell_type": "code",
   "execution_count": 7,
   "metadata": {},
   "outputs": [],
   "source": [
    "swings_gt = [item for item in gts if 'swing' in item]"
   ]
  },
  {
   "cell_type": "code",
   "execution_count": 8,
   "metadata": {},
   "outputs": [],
   "source": [
    "swings_gt0 = swings_gt[:-1]\n",
    "swings_gt1 = swings_gt[1:]"
   ]
  },
  {
   "cell_type": "code",
   "execution_count": 9,
   "metadata": {},
   "outputs": [
    {
     "data": {
      "text/plain": [
       "['data/DAVIS/Annotations/480p/swing/00000.png\\n',\n",
       " 'data/DAVIS/Annotations/480p/swing/00001.png\\n',\n",
       " 'data/DAVIS/Annotations/480p/swing/00002.png\\n',\n",
       " 'data/DAVIS/Annotations/480p/swing/00003.png\\n',\n",
       " 'data/DAVIS/Annotations/480p/swing/00004.png\\n',\n",
       " 'data/DAVIS/Annotations/480p/swing/00005.png\\n',\n",
       " 'data/DAVIS/Annotations/480p/swing/00006.png\\n',\n",
       " 'data/DAVIS/Annotations/480p/swing/00007.png\\n',\n",
       " 'data/DAVIS/Annotations/480p/swing/00008.png\\n',\n",
       " 'data/DAVIS/Annotations/480p/swing/00009.png\\n',\n",
       " 'data/DAVIS/Annotations/480p/swing/00010.png\\n',\n",
       " 'data/DAVIS/Annotations/480p/swing/00011.png\\n',\n",
       " 'data/DAVIS/Annotations/480p/swing/00012.png\\n',\n",
       " 'data/DAVIS/Annotations/480p/swing/00013.png\\n',\n",
       " 'data/DAVIS/Annotations/480p/swing/00014.png\\n',\n",
       " 'data/DAVIS/Annotations/480p/swing/00015.png\\n',\n",
       " 'data/DAVIS/Annotations/480p/swing/00016.png\\n',\n",
       " 'data/DAVIS/Annotations/480p/swing/00017.png\\n',\n",
       " 'data/DAVIS/Annotations/480p/swing/00018.png\\n',\n",
       " 'data/DAVIS/Annotations/480p/swing/00019.png\\n',\n",
       " 'data/DAVIS/Annotations/480p/swing/00020.png\\n',\n",
       " 'data/DAVIS/Annotations/480p/swing/00021.png\\n',\n",
       " 'data/DAVIS/Annotations/480p/swing/00022.png\\n',\n",
       " 'data/DAVIS/Annotations/480p/swing/00023.png\\n',\n",
       " 'data/DAVIS/Annotations/480p/swing/00024.png\\n',\n",
       " 'data/DAVIS/Annotations/480p/swing/00025.png\\n',\n",
       " 'data/DAVIS/Annotations/480p/swing/00026.png\\n',\n",
       " 'data/DAVIS/Annotations/480p/swing/00027.png\\n',\n",
       " 'data/DAVIS/Annotations/480p/swing/00028.png\\n',\n",
       " 'data/DAVIS/Annotations/480p/swing/00029.png\\n',\n",
       " 'data/DAVIS/Annotations/480p/swing/00030.png\\n',\n",
       " 'data/DAVIS/Annotations/480p/swing/00031.png\\n',\n",
       " 'data/DAVIS/Annotations/480p/swing/00032.png\\n',\n",
       " 'data/DAVIS/Annotations/480p/swing/00033.png\\n',\n",
       " 'data/DAVIS/Annotations/480p/swing/00034.png\\n',\n",
       " 'data/DAVIS/Annotations/480p/swing/00035.png\\n',\n",
       " 'data/DAVIS/Annotations/480p/swing/00036.png\\n',\n",
       " 'data/DAVIS/Annotations/480p/swing/00037.png\\n',\n",
       " 'data/DAVIS/Annotations/480p/swing/00038.png\\n',\n",
       " 'data/DAVIS/Annotations/480p/swing/00039.png\\n',\n",
       " 'data/DAVIS/Annotations/480p/swing/00040.png\\n',\n",
       " 'data/DAVIS/Annotations/480p/swing/00041.png\\n',\n",
       " 'data/DAVIS/Annotations/480p/swing/00042.png\\n',\n",
       " 'data/DAVIS/Annotations/480p/swing/00043.png\\n',\n",
       " 'data/DAVIS/Annotations/480p/swing/00044.png\\n',\n",
       " 'data/DAVIS/Annotations/480p/swing/00045.png\\n',\n",
       " 'data/DAVIS/Annotations/480p/swing/00046.png\\n',\n",
       " 'data/DAVIS/Annotations/480p/swing/00047.png\\n',\n",
       " 'data/DAVIS/Annotations/480p/swing/00048.png\\n',\n",
       " 'data/DAVIS/Annotations/480p/swing/00049.png\\n',\n",
       " 'data/DAVIS/Annotations/480p/swing/00050.png\\n',\n",
       " 'data/DAVIS/Annotations/480p/swing/00051.png\\n',\n",
       " 'data/DAVIS/Annotations/480p/swing/00052.png\\n',\n",
       " 'data/DAVIS/Annotations/480p/swing/00053.png\\n',\n",
       " 'data/DAVIS/Annotations/480p/swing/00054.png\\n',\n",
       " 'data/DAVIS/Annotations/480p/swing/00055.png\\n',\n",
       " 'data/DAVIS/Annotations/480p/swing/00056.png\\n',\n",
       " 'data/DAVIS/Annotations/480p/swing/00057.png\\n',\n",
       " 'data/DAVIS/Annotations/480p/swing/00058.png\\n']"
      ]
     },
     "execution_count": 9,
     "metadata": {},
     "output_type": "execute_result"
    }
   ],
   "source": [
    "swings_gt"
   ]
  },
  {
   "cell_type": "code",
   "execution_count": 9,
   "metadata": {},
   "outputs": [],
   "source": [
    "with open('../example_data/datalists/swing_im0.txt', 'w+') as f:\n",
    "    for item in swings0:\n",
    "        f.write(\"%s\\n\" % item)"
   ]
  },
  {
   "cell_type": "code",
   "execution_count": 10,
   "metadata": {},
   "outputs": [],
   "source": [
    "with open('../example_data/datalists/swing_im1.txt', 'w+') as f:\n",
    "    for item in swings1:\n",
    "        f.write(\"%s\\n\" % item)"
   ]
  },
  {
   "cell_type": "code",
   "execution_count": 11,
   "metadata": {},
   "outputs": [],
   "source": [
    "with open('../example_data/datalists/swing_gt0.txt', 'w') as f:\n",
    "    for item in swings_gt0:\n",
    "        f.write(\"%s\" % item)"
   ]
  },
  {
   "cell_type": "code",
   "execution_count": 12,
   "metadata": {},
   "outputs": [],
   "source": [
    "with open('../example_data/datalists/swing_gt1.txt', 'w') as f:\n",
    "    for item in swings_gt1:\n",
    "        f.write(\"%s\" % item)"
   ]
  },
  {
   "cell_type": "code",
   "execution_count": null,
   "metadata": {},
   "outputs": [],
   "source": []
  }
 ],
 "metadata": {
  "kernelspec": {
   "display_name": "Python 2",
   "language": "python",
   "name": "python2"
  },
  "language_info": {
   "codemirror_mode": {
    "name": "ipython",
    "version": 2
   },
   "file_extension": ".py",
   "mimetype": "text/x-python",
   "name": "python",
   "nbconvert_exporter": "python",
   "pygments_lexer": "ipython2",
   "version": "2.7.15"
  }
 },
 "nbformat": 4,
 "nbformat_minor": 2
}
