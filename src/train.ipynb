{
 "cells": [
  {
   "cell_type": "code",
   "execution_count": 1,
   "metadata": {},
   "outputs": [],
   "source": [
    "import sys\n",
    "import time\n",
    "import datetime\n",
    "import os\n",
    "import tensorflow as tf\n",
    "import argparse\n",
    "import json\n",
    "import socket\n",
    "from PIL import Image\n",
    "from util import *\n",
    "import numpy as np\n",
    "%load_ext autoreload\n",
    "%autoreload 2"
   ]
  },
  {
   "cell_type": "code",
   "execution_count": 2,
   "metadata": {},
   "outputs": [],
   "source": [
    "os.environ[\"CUDA_DEVICE_ORDER\"] = \"PCI_BUS_ID\"\n",
    "os.environ[\"CUDA_VISIBLE_DEVICES\"] = \"0\""
   ]
  },
  {
   "cell_type": "code",
   "execution_count": 3,
   "metadata": {},
   "outputs": [],
   "source": [
    "with open(\"hyperParams.json\") as f:\n",
    "    instanceParams = json.load(f)"
   ]
  },
  {
   "cell_type": "code",
   "execution_count": 4,
   "metadata": {
    "scrolled": true
   },
   "outputs": [
    {
     "data": {
      "text/plain": [
       "{u'baseLR': 1e-05,\n",
       " u'batchSize': 2,\n",
       " u'borderThicknessH': 0.1,\n",
       " u'borderThicknessW': 0.1,\n",
       " u'boundaryAlpha': 6.5,\n",
       " u'dataset': u'kitti2012',\n",
       " u'flowScale': 20.0,\n",
       " u'gradParams': {u'robustness': 0.46, u'scale': 255.0, u'weight': 6.408},\n",
       " u'instanceName': u'unsupFlownet',\n",
       " u'iterations': 500000,\n",
       " u'lossComponents': {u'asymmetricSmooth': True,\n",
       "  u'backward': False,\n",
       "  u'boundaries': False,\n",
       "  u'gradient': False,\n",
       "  u'smooth2nd': False},\n",
       " u'photoParams': {u'robustness': 0.53, u'scale': 360.0},\n",
       " u'printFreq': 50,\n",
       " u'resnet': False,\n",
       " u'smooth2ndParams': {u'robustness': 0.21, u'scale': 1.0, u'weight': 0.53},\n",
       " u'smoothOccParams': {u'robustness': 0.9, u'scale': 1.8},\n",
       " u'smoothParams': {u'robustness': 0.28, u'scale': 3.5, u'weight': 0.64},\n",
       " u'snapFreq': 5000,\n",
       " u'snapshotFreq': 10000,\n",
       " u'weightDecay': 0.0}"
      ]
     },
     "execution_count": 4,
     "metadata": {},
     "output_type": "execute_result"
    }
   ],
   "source": [
    "instanceParams"
   ]
  },
  {
   "cell_type": "code",
   "execution_count": 5,
   "metadata": {},
   "outputs": [],
   "source": [
    "logPath = \"logs/\"\n",
    "snapshotPath = \"snapshots/\""
   ]
  },
  {
   "cell_type": "code",
   "execution_count": 6,
   "metadata": {},
   "outputs": [],
   "source": [
    "printFrequency = instanceParams[\"printFreq\"]\n",
    "snapshotFrequency = instanceParams[\"snapFreq\"]\n",
    "batchSize = instanceParams[\"batchSize\"]\n",
    "\n",
    "iterations = instanceParams[\"iterations\"]\n",
    "baseLearningRate = instanceParams[\"baseLR\"]\n",
    "learningRate = baseLearningRate\n",
    "snapshotFrequency = instanceParams[\"snapshotFreq\"]"
   ]
  },
  {
   "cell_type": "code",
   "execution_count": 7,
   "metadata": {},
   "outputs": [],
   "source": [
    "iterations = 1000"
   ]
  },
  {
   "cell_type": "code",
   "execution_count": 8,
   "metadata": {},
   "outputs": [
    {
     "name": "stdout",
     "output_type": "stream",
     "text": [
      "No snapshots found, training from scratch\n"
     ]
    }
   ],
   "source": [
    "resume, startIteration, snapshotFiles = checkResume(snapshotPath,logPath, {'resume': 'n'})"
   ]
  },
  {
   "cell_type": "markdown",
   "metadata": {},
   "source": [
    "Below is the code used to generate train image txt files from DAVIS's train.txt."
   ]
  },
  {
   "cell_type": "code",
   "execution_count": 9,
   "metadata": {},
   "outputs": [],
   "source": [
    "# img_list = None\n",
    "# with open('../example_data/data/DAVIS/ImageSets/480p/train.txt', 'r') as f:\n",
    "#     img_list = f.readlines()\n",
    "# img_list = [x.strip() for x in img_list]\n",
    "# img_list = [item.split(' ')[0] for item in img_list]\n",
    "# img_list = [\"data/DAVIS\" + item for item in img_list]\n",
    "# img_list\n",
    "\n",
    "# objects = sorted(['bear','car-shadow','elephant','lucia','rollerblade','blackswan','car-turn','flamingo','mallard-fly','scooter-black',\n",
    "# 'bmx-bumps','cows','goat','mallard-water','scooter-gray','bmx-trees','dance-jump','hike','motocross-bumps','soapbox','boat','dance-twirl',\n",
    "# 'hockey','motocross-jump','soccerball','breakdance','dog','horsejump-high','motorbike','stroller','breakdance-flare',\n",
    "# 'dog-agility','horsejump-low','paragliding','surf','bus','drift-chicane','kite-surf','paragliding-launch','swing','camel',\n",
    "# 'drift-straight','kite-walk','parkour','tennis','car-roundabout','drift-turn','libby','rhino','train'])\n",
    "\n",
    "# objects = ['/' + item + '/' for item in objects]\n",
    "# count = {}\n",
    "# for item in objects:\n",
    "#     count[item] = 0\n",
    "\n",
    "# for im in img_list:\n",
    "#     for item in objects:\n",
    "#         if item in im:\n",
    "#             count[item] += 1\n",
    "\n",
    "# for key in objects:\n",
    "#     try:\n",
    "#         if count[key] == 0:\n",
    "#             del count[key]\n",
    "#     except:\n",
    "#         print key\n",
    "\n",
    "\n",
    "# i = 0\n",
    "# with open('../example_data/datalists/train_im0.txt', 'w') as f:\n",
    "#     for key in sorted(count.keys()):\n",
    "#         l = count[key]\n",
    "#         for j in range(l-1):\n",
    "#             f.write(\"%s\\n\" % img_list[i])\n",
    "#             i += 1\n",
    "#         i += 1\n",
    "\n",
    "# i = 0\n",
    "# with open('../example_data/datalists/train_im1.txt', 'w') as f:\n",
    "#     for key in sorted(count.keys()):\n",
    "#         l = count[key]\n",
    "#         i += 1\n",
    "#         for j in range(l-1):\n",
    "#             f.write(\"%s\\n\" % img_list[i])\n",
    "#             i += 1"
   ]
  },
  {
   "cell_type": "code",
   "execution_count": 13,
   "metadata": {},
   "outputs": [
    {
     "name": "stderr",
     "output_type": "stream",
     "text": [
      "Reading Tensor(\"ImagePairData/image_data_reader/Placeholder:0\", dtype=string, device=/device:GPU:0)\n",
      "Reading Tensor(\"ImagePairData/image_data_reader_1/Placeholder:0\", dtype=string, device=/device:GPU:0)\n"
     ]
    },
    {
     "name": "stdout",
     "output_type": "stream",
     "text": [
      "WARNING:tensorflow:From components/rgbToGray.py:10: calling reduce_sum (from tensorflow.python.ops.math_ops) with keep_dims is deprecated and will be removed in a future version.\n",
      "Instructions for updating:\n",
      "keep_dims is deprecated, use keepdims instead\n"
     ]
    }
   ],
   "source": [
    "with tf.device(\"/gpu:0\"):\n",
    "    trainingData = TrainingData(batchSize,instanceParams)"
   ]
  },
  {
   "cell_type": "code",
   "execution_count": 14,
   "metadata": {
    "scrolled": true
   },
   "outputs": [
    {
     "name": "stdout",
     "output_type": "stream",
     "text": [
      "WARNING:tensorflow:From components/convLayer.py:8: __init__ (from tensorflow.python.ops.init_ops) is deprecated and will be removed in a future version.\n",
      "Instructions for updating:\n",
      "Use tf.initializers.variance_scaling instead with distribution=uniform to get equivalent behavior.\n"
     ]
    }
   ],
   "source": [
    "with tf.device(\"/gpu:0\"):\n",
    "    # init\n",
    "    with tf.variable_scope(\"netShare\"):\n",
    "        networkBodyF = NetworkBody(trainingData,instanceParams)\n",
    "    with tf.variable_scope(\"netShare\",reuse=True):\n",
    "        networkBodyB = NetworkBody(trainingData,instanceParams,flipInput=True)\n",
    "\n",
    "    trainingLoss = TrainingLoss(instanceParams,networkBodyF,networkBodyB,trainingData)\n",
    "    solver,learningRateTensor = attachSolver(trainingLoss.loss)\n",
    "\n",
    "    # loss scheduling\n",
    "    recLossBWeightTensor = trainingLoss.recLossBWeight"
   ]
  },
  {
   "cell_type": "code",
   "execution_count": 15,
   "metadata": {},
   "outputs": [],
   "source": [
    "# merge summaries\n",
    "merged = tf.summary.merge_all()\n",
    "\n",
    "# saver\n",
    "saver = tf.train.Saver(max_to_keep=0)"
   ]
  },
  {
   "cell_type": "code",
   "execution_count": 16,
   "metadata": {},
   "outputs": [],
   "source": [
    "from dotmap import DotMap\n",
    "arg = DotMap()\n",
    "arg.logDev = False"
   ]
  },
  {
   "cell_type": "code",
   "execution_count": 17,
   "metadata": {},
   "outputs": [],
   "source": [
    "printFrequency = 20"
   ]
  },
  {
   "cell_type": "code",
   "execution_count": 18,
   "metadata": {
    "scrolled": true
   },
   "outputs": [
    {
     "name": "stdout",
     "output_type": "stream",
     "text": [
      "INFO:tensorflow:Restoring parameters from ../model_download_scripts/photometric_smoothness/weights/iter_0000000000500000.ckpt\n",
      "../example_data/data/DAVIS/JPEGImages/480p/dance-jump/00035.jpg\n",
      "../example_data/data/DAVIS/JPEGImages/480p/dance-jump/00036.jpg\n",
      "../example_data/data/DAVIS/JPEGImages/480p/horsejump-low/00007.jpg\n",
      "../example_data/data/DAVIS/JPEGImages/480p/horsejump-low/00008.jpg\n",
      "../example_data/data/DAVIS/JPEGImages/480p/hike/00053.jpg\n",
      "../example_data/data/DAVIS/JPEGImages/480p/hike/00054.jpg\n",
      "../example_data/data/DAVIS/JPEGImages/480p/scooter-gray/00012.jpg\n",
      "../example_data/data/DAVIS/JPEGImages/480p/scooter-gray/00013.jpg\n",
      "../example_data/data/DAVIS/JPEGImages/480p/mallard-water/00031.jpg\n",
      "../example_data/data/DAVIS/JPEGImages/480p/mallard-water/00032.jpg\n",
      "../example_data/data/DAVIS/JPEGImages/480p/bus/00070.jpg\n",
      "../example_data/data/DAVIS/JPEGImages/480p/bus/00071.jpg\n",
      "../example_data/data/DAVIS/JPEGImages/480p/flamingo/00032.jpg\n",
      "../example_data/data/DAVIS/JPEGImages/480p/flamingo/00033.jpg\n",
      "../example_data/data/DAVIS/JPEGImages/480p/stroller/00021.jpg\n",
      "../example_data/data/DAVIS/JPEGImages/480p/stroller/00022.jpg\n",
      "../example_data/data/DAVIS/JPEGImages/480p/paragliding/00022.jpg\n",
      "../example_data/data/DAVIS/JPEGImages/480p/paragliding/00023.jpg\n",
      "../example_data/data/DAVIS/JPEGImages/480p/soccerball/00013.jpg../example_data/data/DAVIS/JPEGImages/480p/hike/00060.jpg\n",
      "\n",
      "../example_data/data/DAVIS/JPEGImages/480p/hike/00061.jpg\n",
      " ../example_data/data/DAVIS/JPEGImages/480p/soccerball/00014.jpg\n",
      "../example_data/data/DAVIS/JPEGImages/480p/bus/00056.jpg\n",
      "../example_data/data/DAVIS/JPEGImages/480p/rollerblade/00008.jpg\n",
      "../example_data/data/DAVIS/JPEGImages/480p/dance-jump/00038.jpg\n",
      "../example_data/data/DAVIS/JPEGImages/480p/bus/00057.jpg ../example_data/data/DAVIS/JPEGImages/480p/rollerblade/00009.jpg../example_data/data/DAVIS/JPEGImages/480p/dance-jump/00039.jpg\n",
      "\n",
      "../example_data/data/DAVIS/JPEGImages/480p/swing/00023.jpg\n",
      "../example_data/data/DAVIS/JPEGImages/480p/swing/00024.jpg\n",
      "\n",
      "../example_data/data/DAVIS/JPEGImages/480p/boat/00022.jpg\n",
      "../example_data/data/DAVIS/JPEGImages/480p/boat/00023.jpg\n",
      "../example_data/data/DAVIS/JPEGImages/480p/flamingo/00013.jpg\n",
      "../example_data/data/DAVIS/JPEGImages/480p/flamingo/00014.jpg\n",
      "../example_data/data/DAVIS/JPEGImages/480p/boat/00035.jpg\n",
      "../example_data/data/DAVIS/JPEGImages/480p/boat/00036.jpg\n",
      "../example_data/data/DAVIS/JPEGImages/480p/horsejump-low/00025.jpg../example_data/data/DAVIS/JPEGImages/480p/horsejump-low/00030.jpg ../example_data/data/DAVIS/JPEGImages/480p/bus/00071.jpg../example_data/data/DAVIS/JPEGImages/480p/elephant/00057.jpg\n",
      "../example_data/data/DAVIS/JPEGImages/480p/horsejump-low/00031.jpg\n",
      "../example_data/data/DAVIS/JPEGImages/480p/horsejump-low/00026.jpg\n",
      "\n",
      "\n",
      "\n",
      " ../example_data/data/DAVIS/JPEGImages/480p/elephant/00058.jpg../example_data/data/DAVIS/JPEGImages/480p/bus/00072.jpg\n",
      "../example_data/data/DAVIS/JPEGImages/480p/drift-turn/00015.jpg\n",
      "\n",
      "../example_data/data/DAVIS/JPEGImages/480p/drift-turn/00016.jpg\n",
      "../example_data/data/DAVIS/JPEGImages/480p/scooter-gray/00066.jpg\n",
      "../example_data/data/DAVIS/JPEGImages/480p/scooter-gray/00067.jpg../example_data/data/DAVIS/JPEGImages/480p/dance-jump/00013.jpg\n",
      "../example_data/data/DAVIS/JPEGImages/480p/dance-jump/00014.jpg\n",
      "../example_data/data/DAVIS/JPEGImages/480p/paragliding/00015.jpg\n",
      "\n",
      "../example_data/data/DAVIS/JPEGImages/480p/paragliding/00016.jpg\n",
      "../example_data/data/DAVIS/JPEGImages/480p/elephant/00045.jpg\n",
      "../example_data/data/DAVIS/JPEGImages/480p/elephant/00046.jpg\n",
      "../example_data/data/DAVIS/JPEGImages/480p/mallard-fly/00007.jpg\n",
      "../example_data/data/DAVIS/JPEGImages/480p/mallard-fly/00008.jpg\n",
      "../example_data/data/DAVIS/JPEGImages/480p/swing/00008.jpg\n",
      "../example_data/data/DAVIS/JPEGImages/480p/swing/00009.jpg\n",
      "../example_data/data/DAVIS/JPEGImages/480p/kite-walk/00012.jpg\n",
      "../example_data/data/DAVIS/JPEGImages/480p/kite-walk/00013.jpg\n",
      "../example_data/data/DAVIS/JPEGImages/480p/boat/00028.jpg\n",
      "../example_data/data/DAVIS/JPEGImages/480p/boat/00029.jpg\n",
      "../example_data/data/DAVIS/JPEGImages/480p/stroller/00065.jpg\n",
      "../example_data/data/DAVIS/JPEGImages/480p/stroller/00066.jpg\n",
      "../example_data/data/DAVIS/JPEGImages/480p/mallard-water/00010.jpg\n",
      "../example_data/data/DAVIS/JPEGImages/480p/mallard-water/00011.jpg\n",
      "../example_data/data/DAVIS/JPEGImages/480p/bmx-bumps/00083.jpg\n",
      "../example_data/data/DAVIS/JPEGImages/480p/bmx-bumps/00084.jpg\n",
      "../example_data/data/DAVIS/JPEGImages/480p/motocross-bumps/00008.jpg\n",
      "../example_data/data/DAVIS/JPEGImages/480p/motocross-bumps/00009.jpg\n",
      "../example_data/data/DAVIS/JPEGImages/480p/bus/00036.jpg\n",
      "../example_data/data/DAVIS/JPEGImages/480p/bus/00037.jpg\n",
      "../example_data/data/DAVIS/JPEGImages/480p/flamingo/00026.jpg\n",
      "../example_data/data/DAVIS/JPEGImages/480p/flamingo/00027.jpg\n",
      "../example_data/data/DAVIS/JPEGImages/480p/rollerblade/00028.jpg\n",
      "../example_data/data/DAVIS/JPEGImages/480p/rollerblade/00029.jpg\n",
      "../example_data/data/DAVIS/JPEGImages/480p/scooter-gray/00006.jpg../example_data/data/DAVIS/JPEGImages/480p/rollerblade/00032.jpg\n",
      "\n",
      "../example_data/data/DAVIS/JPEGImages/480p/dog-agility/00017.jpg../example_data/data/DAVIS/JPEGImages/480p/scooter-gray/00007.jpg../example_data/data/DAVIS/JPEGImages/480p/rollerblade/00033.jpg\n",
      "\n",
      "../example_data/data/DAVIS/JPEGImages/480p/dog-agility/00018.jpg\n",
      "\n",
      "../example_data/data/DAVIS/JPEGImages/480p/scooter-gray/00000.jpg\n",
      "../example_data/data/DAVIS/JPEGImages/480p/scooter-gray/00001.jpg\n",
      "../example_data/data/DAVIS/JPEGImages/480p/hockey/00060.jpg\n",
      "../example_data/data/DAVIS/JPEGImages/480p/hockey/00061.jpg\n",
      "../example_data/data/DAVIS/JPEGImages/480p/bus/00027.jpg\n",
      "../example_data/data/DAVIS/JPEGImages/480p/bus/00028.jpg\n",
      "../example_data/data/DAVIS/JPEGImages/480p/swing/00029.jpg\n",
      "../example_data/data/DAVIS/JPEGImages/480p/swing/00030.jpg\n",
      "../example_data/data/DAVIS/JPEGImages/480p/hockey/00002.jpg\n",
      "../example_data/data/DAVIS/JPEGImages/480p/hockey/00003.jpg\n",
      "../example_data/data/DAVIS/JPEGImages/480p/dance-jump/00055.jpg\n",
      "../example_data/data/DAVIS/JPEGImages/480p/dance-jump/00056.jpg\n",
      "../example_data/data/DAVIS/JPEGImages/480p/tennis/00011.jpg\n",
      "../example_data/data/DAVIS/JPEGImages/480p/tennis/00012.jpg\n",
      "../example_data/data/DAVIS/JPEGImages/480p/soccerball/00031.jpg\n",
      "../example_data/data/DAVIS/JPEGImages/480p/soccerball/00032.jpg\n",
      "../example_data/data/DAVIS/JPEGImages/480p/flamingo/00065.jpg\n",
      "../example_data/data/DAVIS/JPEGImages/480p/flamingo/00066.jpg\n",
      "../example_data/data/DAVIS/JPEGImages/480p/lucia/00025.jpg\n",
      "../example_data/data/DAVIS/JPEGImages/480p/lucia/00026.jpg\n",
      "../example_data/data/DAVIS/JPEGImages/480p/hockey/00071.jpg\n",
      "../example_data/data/DAVIS/JPEGImages/480p/hockey/00072.jpg\n",
      "../example_data/data/DAVIS/JPEGImages/480p/hike/00011.jpg\n",
      "../example_data/data/DAVIS/JPEGImages/480p/hike/00012.jpg\n",
      "../example_data/data/DAVIS/JPEGImages/480p/stroller/00038.jpg\n",
      "../example_data/data/DAVIS/JPEGImages/480p/stroller/00039.jpg\n",
      "../example_data/data/DAVIS/JPEGImages/480p/bus/00014.jpg\n",
      "../example_data/data/DAVIS/JPEGImages/480p/bus/00015.jpg\n",
      "../example_data/data/DAVIS/JPEGImages/480p/lucia/00065.jpg\n",
      "../example_data/data/DAVIS/JPEGImages/480p/lucia/00066.jpg\n",
      "../example_data/data/DAVIS/JPEGImages/480p/boat/00069.jpg\n",
      "../example_data/data/DAVIS/JPEGImages/480p/boat/00070.jpg\n",
      "../example_data/data/DAVIS/JPEGImages/480p/bmx-bumps/00050.jpg\n",
      "../example_data/data/DAVIS/JPEGImages/480p/bmx-bumps/00051.jpg\n",
      "../example_data/data/DAVIS/JPEGImages/480p/bear/00051.jpg\n",
      "../example_data/data/DAVIS/JPEGImages/480p/bear/00052.jpg\n",
      "../example_data/data/DAVIS/JPEGImages/480p/lucia/00001.jpg\n",
      "../example_data/data/DAVIS/JPEGImages/480p/lucia/00002.jpg\n",
      "../example_data/data/DAVIS/JPEGImages/480p/soccerball/00019.jpg\n",
      "../example_data/data/DAVIS/JPEGImages/480p/soccerball/00020.jpg\n",
      "../example_data/data/DAVIS/JPEGImages/480p/stroller/00017.jpg\n",
      "../example_data/data/DAVIS/JPEGImages/480p/stroller/00018.jpg\n",
      "../example_data/data/DAVIS/JPEGImages/480p/car-turn/00030.jpg\n",
      "../example_data/data/DAVIS/JPEGImages/480p/car-turn/00031.jpg\n",
      "../example_data/data/DAVIS/JPEGImages/480p/car-turn/00018.jpg\n",
      "../example_data/data/DAVIS/JPEGImages/480p/car-turn/00019.jpg\n",
      "../example_data/data/DAVIS/JPEGImages/480p/boat/00010.jpg\n",
      "../example_data/data/DAVIS/JPEGImages/480p/boat/00011.jpg\n",
      "../example_data/data/DAVIS/JPEGImages/480p/flamingo/00021.jpg\n",
      "../example_data/data/DAVIS/JPEGImages/480p/flamingo/00022.jpg\n",
      "../example_data/data/DAVIS/JPEGImages/480p/mallard-water/00039.jpg\n",
      "../example_data/data/DAVIS/JPEGImages/480p/mallard-water/00040.jpg\n",
      "../example_data/data/DAVIS/JPEGImages/480p/hike/00037.jpg\n",
      "../example_data/data/DAVIS/JPEGImages/480p/hike/00038.jpg\n",
      "../example_data/data/DAVIS/JPEGImages/480p/hike/00056.jpg\n",
      "../example_data/data/DAVIS/JPEGImages/480p/hike/00057.jpg\n",
      "../example_data/data/DAVIS/JPEGImages/480p/horsejump-low/00010.jpg\n",
      "../example_data/data/DAVIS/JPEGImages/480p/horsejump-low/00011.jpg\n",
      "../example_data/data/DAVIS/JPEGImages/480p/motorbike/00022.jpg\n",
      "../example_data/data/DAVIS/JPEGImages/480p/motorbike/00023.jpg\n",
      "../example_data/data/DAVIS/JPEGImages/480p/boat/00070.jpg\n",
      "../example_data/data/DAVIS/JPEGImages/480p/boat/00071.jpg\n"
     ]
    },
    {
     "name": "stdout",
     "output_type": "stream",
     "text": [
      "../example_data/data/DAVIS/JPEGImages/480p/mallard-water/00024.jpg\n",
      "../example_data/data/DAVIS/JPEGImages/480p/mallard-water/00025.jpg../example_data/data/DAVIS/JPEGImages/480p/elephant/00016.jpg\n",
      "\n",
      "../example_data/data/DAVIS/JPEGImages/480p/elephant/00017.jpg\n",
      "../example_data/data/DAVIS/JPEGImages/480p/motorbike/00025.jpg\n",
      "../example_data/data/DAVIS/JPEGImages/480p/motorbike/00026.jpg\n",
      "../example_data/data/DAVIS/JPEGImages/480p/paragliding/00012.jpg\n",
      "../example_data/data/DAVIS/JPEGImages/480p/paragliding/00013.jpg\n",
      "../example_data/data/DAVIS/JPEGImages/480p/mallard-fly/00064.jpg\n",
      "../example_data/data/DAVIS/JPEGImages/480p/mallard-fly/00065.jpg\n",
      "../example_data/data/DAVIS/JPEGImages/480p/breakdance-flare/00029.jpg\n",
      "../example_data/data/DAVIS/JPEGImages/480p/breakdance-flare/00030.jpg\n",
      "../example_data/data/DAVIS/JPEGImages/480p/stroller/00048.jpg../example_data/data/DAVIS/JPEGImages/480p/drift-turn/00037.jpg\n",
      "../example_data/data/DAVIS/JPEGImages/480p/drift-turn/00038.jpg\n",
      "\n",
      "../example_data/data/DAVIS/JPEGImages/480p/stroller/00049.jpg\n",
      "../example_data/data/DAVIS/JPEGImages/480p/swing/00029.jpg\n",
      "../example_data/data/DAVIS/JPEGImages/480p/swing/00030.jpg\n",
      "../example_data/data/DAVIS/JPEGImages/480p/dog-agility/00015.jpg\n",
      "../example_data/data/DAVIS/JPEGImages/480p/dog-agility/00016.jpg\n",
      "../example_data/data/DAVIS/JPEGImages/480p/boat/00051.jpg\n",
      "../example_data/data/DAVIS/JPEGImages/480p/boat/00052.jpg\n",
      "../example_data/data/DAVIS/JPEGImages/480p/lucia/00047.jpg\n",
      "../example_data/data/DAVIS/JPEGImages/480p/lucia/00048.jpg\n",
      "../example_data/data/DAVIS/JPEGImages/480p/dog-agility/00009.jpg../example_data/data/DAVIS/JPEGImages/480p/tennis/00064.jpg\n",
      "../example_data/data/DAVIS/JPEGImages/480p/tennis/00065.jpg\n",
      "../example_data/data/DAVIS/JPEGImages/480p/dog-agility/00010.jpg\n",
      "\n",
      "../example_data/data/DAVIS/JPEGImages/480p/stroller/00028.jpg../example_data/data/DAVIS/JPEGImages/480p/bus/00044.jpg\n",
      "../example_data/data/DAVIS/JPEGImages/480p/bus/00045.jpg\n",
      "\n",
      "../example_data/data/DAVIS/JPEGImages/480p/stroller/00029.jpg\n",
      "../example_data/data/DAVIS/JPEGImages/480p/car-turn/00059.jpg\n",
      "../example_data/data/DAVIS/JPEGImages/480p/car-turn/00060.jpg\n",
      "../example_data/data/DAVIS/JPEGImages/480p/hockey/00017.jpg\n",
      "../example_data/data/DAVIS/JPEGImages/480p/hockey/00018.jpg\n",
      "../example_data/data/DAVIS/JPEGImages/480p/kite-walk/00044.jpg\n",
      "../example_data/data/DAVIS/JPEGImages/480p/kite-walk/00045.jpg\n",
      "../example_data/data/DAVIS/JPEGImages/480p/tennis/00011.jpg\n",
      "../example_data/data/DAVIS/JPEGImages/480p/tennis/00012.jpg\n",
      "../example_data/data/DAVIS/JPEGImages/480p/bear/00077.jpg../example_data/data/DAVIS/JPEGImages/480p/breakdance-flare/00035.jpg\n",
      "../example_data/data/DAVIS/JPEGImages/480p/breakdance-flare/00036.jpg\n",
      "\n",
      "../example_data/data/DAVIS/JPEGImages/480p/bear/00078.jpg\n",
      "../example_data/data/DAVIS/JPEGImages/480p/surf/00016.jpg\n",
      "../example_data/data/DAVIS/JPEGImages/480p/surf/00017.jpg\n",
      "../example_data/data/DAVIS/JPEGImages/480p/scooter-gray/00046.jpg\n",
      "../example_data/data/DAVIS/JPEGImages/480p/scooter-gray/00047.jpg\n",
      "../example_data/data/DAVIS/JPEGImages/480p/train/00029.jpg../example_data/data/DAVIS/JPEGImages/480p/hockey/00004.jpg\n",
      "../example_data/data/DAVIS/JPEGImages/480p/train/00030.jpg\n",
      "\n",
      "../example_data/data/DAVIS/JPEGImages/480p/hockey/00005.jpg\n",
      "../example_data/data/DAVIS/JPEGImages/480p/horsejump-low/00052.jpg\n",
      " ../example_data/data/DAVIS/JPEGImages/480p/horsejump-low/00021.jpg\n",
      "../example_data/data/DAVIS/JPEGImages/480p/horsejump-low/00022.jpg../example_data/data/DAVIS/JPEGImages/480p/horsejump-low/00053.jpg\n",
      "\n",
      "../example_data/data/DAVIS/JPEGImages/480p/paragliding/00065.jpg../example_data/data/DAVIS/JPEGImages/480p/kite-walk/00045.jpg\n",
      "../example_data/data/DAVIS/JPEGImages/480p/kite-walk/00046.jpg\n",
      "\n",
      "../example_data/data/DAVIS/JPEGImages/480p/paragliding/00066.jpg\n",
      "../example_data/data/DAVIS/JPEGImages/480p/horsejump-low/00011.jpg\n",
      "../example_data/data/DAVIS/JPEGImages/480p/horsejump-low/00012.jpg\n",
      " ../example_data/data/DAVIS/JPEGImages/480p/swing/00057.jpg\n",
      "../example_data/data/DAVIS/JPEGImages/480p/swing/00058.jpg\n",
      "../example_data/data/DAVIS/JPEGImages/480p/car-turn/00046.jpg\n",
      "../example_data/data/DAVIS/JPEGImages/480p/car-turn/00047.jpg\n",
      "../example_data/data/DAVIS/JPEGImages/480p/breakdance-flare/00064.jpg\n",
      "../example_data/data/DAVIS/JPEGImages/480p/breakdance-flare/00065.jpg\n",
      "../example_data/data/DAVIS/JPEGImages/480p/horsejump-low/00003.jpg../example_data/data/DAVIS/JPEGImages/480p/boat/00053.jpg\n",
      "../example_data/data/DAVIS/JPEGImages/480p/boat/00054.jpg\n",
      "\n",
      "../example_data/data/DAVIS/JPEGImages/480p/horsejump-low/00004.jpg\n",
      "../example_data/data/DAVIS/JPEGImages/480p/kite-walk/00012.jpg\n",
      "../example_data/data/DAVIS/JPEGImages/480p/kite-walk/00013.jpg\n",
      "../example_data/data/DAVIS/JPEGImages/480p/bus/00065.jpg\n",
      "../example_data/data/DAVIS/JPEGImages/480p/bus/00066.jpg\n",
      "../example_data/data/DAVIS/JPEGImages/480p/drift-turn/00062.jpg../example_data/data/DAVIS/JPEGImages/480p/paragliding/00026.jpg\n",
      "../example_data/data/DAVIS/JPEGImages/480p/paragliding/00027.jpg\n",
      "\n",
      "../example_data/data/DAVIS/JPEGImages/480p/drift-turn/00063.jpg\n",
      "Iteration 500020: loss: [[18.555927]\n",
      " [20.06378 ]], iterations per second: 0.727166927378, ETA: -8 days, 1:22:29.042741, lr: 1.25e-06\n"
     ]
    }
   ],
   "source": [
    "# start\n",
    "with sessionSetup(arg) as sess:\n",
    "#     if resume:\n",
    "#         saver.restore(sess,snapshotPath+snapshotFiles[-1][:-6])\n",
    "#     else:\n",
    "#         sess.run(tf.initialize_all_variables())\n",
    "    saver.restore(sess,\n",
    "                  '../model_download_scripts/photometric_smoothness/weights/iter_0000000000500000.ckpt')\n",
    "\n",
    "    trainingData.dataQueuer.start_queueing(sess)\n",
    "\n",
    "    #start summary writer\n",
    "    summary_writer = tf.summary.FileWriter(logPath, sess.graph)\n",
    "\n",
    "    #run\n",
    "    lastPrint = time.time()\n",
    "    flowFinal = networkBodyF.flows[0]\n",
    "    flowViz = flowToRgb(flowFinal)\n",
    "    for i in range(500000, 500000 + 20):\n",
    "        # scheduled values\n",
    "        learningRate = learningRateSchedule(baseLearningRate, i)\n",
    "        recLossBWeight = unsupLossBSchedule(i)\n",
    "\n",
    "         #run training\n",
    "        feed_dict = {\n",
    "            learningRateTensor: learningRate,\n",
    "            recLossBWeightTensor: recLossBWeight,\n",
    "        }\n",
    "        hi,summary,result,totalLoss = sess.run([flowViz,merged,solver,trainingLoss.loss], feed_dict=feed_dict)\n",
    "\n",
    "        if (i+1) % printFrequency == 0:\n",
    "            timeDiff = time.time() - lastPrint\n",
    "            itPerSec = printFrequency/timeDiff\n",
    "            remainingIt = iterations - i\n",
    "            eta = remainingIt/itPerSec\n",
    "            print(\"Iteration \"+str(i+1)+\": loss: \"+str(totalLoss)+\", iterations per second: \"+str(itPerSec)+\", ETA: \"+str(datetime.timedelta(seconds=eta)))+\", lr: \"+str(learningRate)\n",
    "\n",
    "            summary_writer.add_summary(summary,i+1)\n",
    "            summary_writer.flush()\n",
    "            lastPrint = time.time()\n",
    "\n",
    "        if (i+1) % snapshotFrequency == 0:\n",
    "            saver.save(sess,\"snapshots/iter_\"+str(i+1).zfill(16)+\".ckpt\")\n",
    "\n",
    "        sys.stdout.flush()\n",
    "\n",
    "    # close queing\n",
    "#     trainingData.dataQueuer.close(sess)\n",
    "    "
   ]
  },
  {
   "cell_type": "code",
   "execution_count": null,
   "metadata": {},
   "outputs": [],
   "source": []
  }
 ],
 "metadata": {
  "kernelspec": {
   "display_name": "Environment (conda_tensorflow_p27)",
   "language": "python",
   "name": "conda_tensorflow_p27"
  },
  "language_info": {
   "codemirror_mode": {
    "name": "ipython",
    "version": 2
   },
   "file_extension": ".py",
   "mimetype": "text/x-python",
   "name": "python",
   "nbconvert_exporter": "python",
   "pygments_lexer": "ipython2",
   "version": "2.7.15"
  }
 },
 "nbformat": 4,
 "nbformat_minor": 2
}
